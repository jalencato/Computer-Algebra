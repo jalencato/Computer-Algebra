{
 "cells": [
  {
   "cell_type": "code",
   "execution_count": 1,
   "metadata": {},
   "outputs": [],
   "source": [
    "R0 = singular.ring(0, '(a,b,c,d,e)', 'lp')"
   ]
  },
  {
   "cell_type": "code",
   "execution_count": 2,
   "metadata": {},
   "outputs": [],
   "source": [
    "R0 = singular.ring(0, '(a,b,c,d,e)', 'lp')"
   ]
  },
  {
   "cell_type": "code",
   "execution_count": 3,
   "metadata": {},
   "outputs": [],
   "source": [
    "I0=singular.ideal(singular.cyclic(5))"
   ]
  },
  {
   "cell_type": "code",
   "execution_count": 4,
   "metadata": {},
   "outputs": [],
   "source": [
    "GI0=I0.groebner();"
   ]
  },
  {
   "cell_type": "code",
   "execution_count": 5,
   "metadata": {},
   "outputs": [
    {
     "data": {
      "text/plain": [
       "e^15+122*e^10-122*e^5-1,\n",
       "55*d^2*e^5-55*d^2-2*d*e^11-231*d*e^6+233*d*e-8*e^12-979*e^7+987*e^2,\n",
       "6*d^7+57*d^6*e^6-39*d^6*e+25*d^5*e^7-19*d^5*e^2-5*d^4*e^8+5*d^4*e^3-8*d^3*e^9+8*d^3*e^4-2*d^2*e^10+14*d^2*e^5-18*d^2-18*d*e^6-6*e^7,\n",
       "360150*c*e^5-360150*c+71540*d^9*e^2-110722*d^8*e^3-1744327*d^7*e^4-3078595*d^6*e^5+233730*d^6+219158*d^5*e^6-1058999*d^5*e+2366210*d^4*e^7-2437750*d^4*e^2+1281458*d^3*e^8-1170736*d^3*e^3+200573*d^2*e^9+1543754*d^2*e^4+2844865*d*e^5+839841*e^6,\n",
       "360150*c*d-360150*c*e^6-71540*d^10*e^2+110722*d^9*e^3+1744327*d^8*e^4+3064189*d^7*e^5-233730*d^7+313864*d^6*e^6+1058999*d^6*e-795956*d^5*e^7+2437750*d^5*e^2-1403909*d^4*e^8+1293187*d^4*e^3-1360256*d^3*e^9-744221*d^3*e^4-410571*d^2*e^10-2059738*d^2*e^5-1372863*d*e^6-1570254*e^7,\n",
       "3*c^3-3*c^2*d^5*e+69*c^2*d^4*e^2-32*c^2*d^3*e^3-48*c^2*d^2*e^4+11*c^2*d*e^5-19*c^2*d+28*c^2*e+3*c*d^5*e^2+45*c*d^4*e^3+8*c*d^3*e^4-11*c*d^2*e^5-14*c*d^2+3*c*d*e^6-69*c*d*e+29*c*e^2-3*d^3*e^5,\n",
       "22*b*e^5-22*b+9*c^4*d^2-9*c^4*e^2-c^3*d^3-5*c^3*d^2*e-20*c^3*d*e^2-10*c^3*e^3+3*c^2*d^3*e+9*c^2*d^2*e^2-102*c^2*d*e^3+18*c^2*e^4-2*c*d^4*e+71*c*d^3*e^2-20*c*d^2*e^3-18*c*d*e^4+41*c*e^5+3*d^4*e^2+32*d^3*e^3-24*d^2*e^4+3*d*e^5+22*e^6,\n",
       "110*b*d-110*b*e^6-45*c^4*d^3+8*c^4*d^2*e+67*c^4*d*e^2-30*c^4*e^3+5*c^3*d^4+29*c^3*d^3*e+87*c^3*d^2*e^2+119*c^3*d*e^3-136*c^3*e^4-15*c^2*d^4*e+31*c^2*d^3*e^2+507*c^2*d^2*e^3-78*c^2*d*e^4-237*c^2*e^5+10*c*d^5*e-347*c*d^4*e^2+190*c*d^3*e^3+203*c*d^2*e^4-23*c*d*e^5-241*c*e^6-15*d^5*e^2-172*d^4*e^3+91*d^3*e^4+81*d^2*e^5+21*d*e^6-110*e^7,\n",
       "22*b*c-22*b*d^3*e^3-66*b*d^2*e^4+88*b*d*e^5-22*b*e^6-9*c^5*d^2+9*c^5*e^2+c^4*d^3+5*c^4*d^2*e+20*c^4*d*e^2+10*c^4*e^3-3*c^3*d^3*e-31*c^3*d^2*e^2+124*c^3*d*e^3-18*c^3*e^4+2*c^2*d^4*e-49*c^2*d^3*e^2-46*c^2*d^2*e^3+84*c^2*d*e^4-41*c^2*e^5-3*c*d^4*e^2-32*c*d^3*e^3-42*c*d^2*e^4+129*c*d*e^5-44*c*e^6-22*d^4*e^3-88*d^3*e^4-22*d^2*e^5+88*d*e^6-22*e^7,\n",
       "b^2+b*d+2*b*e-c*d+c*e+e^2,\n",
       "a+b+c+d+e"
      ]
     },
     "execution_count": 5,
     "metadata": {},
     "output_type": "execute_result"
    }
   ],
   "source": [
    "GI0"
   ]
  },
  {
   "cell_type": "code",
   "execution_count": 6,
   "metadata": {},
   "outputs": [
    {
     "data": {
      "text/plain": [
       "e^5-1"
      ]
     },
     "execution_count": 6,
     "metadata": {},
     "output_type": "execute_result"
    }
   ],
   "source": [
    "gcd(GI0[1],GI0[2])"
   ]
  },
  {
   "cell_type": "code",
   "execution_count": 8,
   "metadata": {},
   "outputs": [
    {
     "data": {
      "text/plain": [
       "[1]:\n",
       "   _[1]=1\n",
       "   _[2]=e-1\n",
       "   _[3]=e^4+e^3+e^2+e+1\n",
       "   _[4]=e^4+e^3+6*e^2-4*e+1\n",
       "   _[5]=e^4-4*e^3+6*e^2+e+1\n",
       "   _[6]=e^2+3*e+1\n",
       "[2]:\n",
       "   1,1,1,1,1,1"
      ]
     },
     "execution_count": 8,
     "metadata": {},
     "output_type": "execute_result"
    }
   ],
   "source": [
    "singular.factorize(GI0[1])"
   ]
  },
  {
   "cell_type": "code",
   "execution_count": 9,
   "metadata": {},
   "outputs": [
    {
     "data": {
      "text/plain": [
       "[1]:\n",
       "   _[1]=-1\n",
       "   _[2]=e-1\n",
       "   _[3]=e^4+e^3+e^2+e+1\n",
       "   _[4]=-55*d^2+2*d*e^6+233*d*e+8*e^7+987*e^2\n",
       "[2]:\n",
       "   1,1,1,1"
      ]
     },
     "execution_count": 9,
     "metadata": {},
     "output_type": "execute_result"
    }
   ],
   "source": [
    "singular.factorize(GI0[2])"
   ]
  },
  {
   "cell_type": "code",
   "execution_count": 10,
   "metadata": {},
   "outputs": [
    {
     "data": {
      "text/plain": [
       "[1]:\n",
       "   _[1]=-1\n",
       "   _[2]=-6*d^7-57*d^6*e^6+39*d^6*e-25*d^5*e^7+19*d^5*e^2+5*d^4*e^8-5*d^4*e^3+8*d^3*e^9-8*d^3*e^4+2*d^2*e^10-14*d^2*e^5+18*d^2+18*d*e^6+6*e^7\n",
       "[2]:\n",
       "   1,1"
      ]
     },
     "execution_count": 10,
     "metadata": {},
     "output_type": "execute_result"
    }
   ],
   "source": [
    "singular.factorize(GI0[3])"
   ]
  },
  {
   "cell_type": "code",
   "execution_count": 11,
   "metadata": {},
   "outputs": [
    {
     "data": {
      "text/plain": [
       "[1]:\n",
       "   _[1]=1\n",
       "   _[2]=360150*c*e^5-360150*c+71540*d^9*e^2-110722*d^8*e^3-1744327*d^7*e^4-3078595*d^6*e^5+233730*d^6+219158*d^5*e^6-1058999*d^5*e+2366210*d^4*e^7-2437750*d^4*e^2+1281458*d^3*e^8-1170736*d^3*e^3+200573*d^2*e^9+1543754*d^2*e^4+2844865*d*e^5+839841*e^6\n",
       "[2]:\n",
       "   1,1"
      ]
     },
     "execution_count": 11,
     "metadata": {},
     "output_type": "execute_result"
    }
   ],
   "source": [
    "singular.factorize(GI0[4])"
   ]
  },
  {
   "cell_type": "code",
   "execution_count": 12,
   "metadata": {},
   "outputs": [
    {
     "data": {
      "text/plain": [
       "[1]:\n",
       "   _[1]=-1\n",
       "   _[2]=-360150*c*d+360150*c*e^6+71540*d^10*e^2-110722*d^9*e^3-1744327*d^8*e^4-3064189*d^7*e^5+233730*d^7-313864*d^6*e^6-1058999*d^6*e+795956*d^5*e^7-2437750*d^5*e^2+1403909*d^4*e^8-1293187*d^4*e^3+1360256*d^3*e^9+744221*d^3*e^4+410571*d^2*e^10+2059738*d^2*e^5+1372863*d*e^6+1570254*e^7\n",
       "[2]:\n",
       "   1,1"
      ]
     },
     "execution_count": 12,
     "metadata": {},
     "output_type": "execute_result"
    }
   ],
   "source": [
    "singular.factorize(GI0[5])"
   ]
  },
  {
   "cell_type": "code",
   "execution_count": 13,
   "metadata": {},
   "outputs": [
    {
     "data": {
      "text/plain": [
       "[1]:\n",
       "   _[1]=1\n",
       "   _[2]=3*c^3-3*c^2*d^5*e+69*c^2*d^4*e^2-32*c^2*d^3*e^3-48*c^2*d^2*e^4+11*c^2*d*e^5-19*c^2*d+28*c^2*e+3*c*d^5*e^2+45*c*d^4*e^3+8*c*d^3*e^4-11*c*d^2*e^5-14*c*d^2+3*c*d*e^6-69*c*d*e+29*c*e^2-3*d^3*e^5\n",
       "[2]:\n",
       "   1,1"
      ]
     },
     "execution_count": 13,
     "metadata": {},
     "output_type": "execute_result"
    }
   ],
   "source": [
    "singular.factorize(GI0[6])"
   ]
  },
  {
   "cell_type": "code",
   "execution_count": 14,
   "metadata": {},
   "outputs": [
    {
     "data": {
      "text/plain": [
       "[1]:\n",
       "   _[1]=1\n",
       "   _[2]=22*b*e^5-22*b+9*c^4*d^2-9*c^4*e^2-c^3*d^3-5*c^3*d^2*e-20*c^3*d*e^2-10*c^3*e^3+3*c^2*d^3*e+9*c^2*d^2*e^2-102*c^2*d*e^3+18*c^2*e^4-2*c*d^4*e+71*c*d^3*e^2-20*c*d^2*e^3-18*c*d*e^4+41*c*e^5+3*d^4*e^2+32*d^3*e^3-24*d^2*e^4+3*d*e^5+22*e^6\n",
       "[2]:\n",
       "   1,1"
      ]
     },
     "execution_count": 14,
     "metadata": {},
     "output_type": "execute_result"
    }
   ],
   "source": [
    "singular.factorize(GI0[7])"
   ]
  },
  {
   "cell_type": "code",
   "execution_count": 15,
   "metadata": {},
   "outputs": [
    {
     "data": {
      "text/plain": [
       "[1]:\n",
       "   _[1]=-1\n",
       "   _[2]=-110*b*d+110*b*e^6+45*c^4*d^3-8*c^4*d^2*e-67*c^4*d*e^2+30*c^4*e^3-5*c^3*d^4-29*c^3*d^3*e-87*c^3*d^2*e^2-119*c^3*d*e^3+136*c^3*e^4+15*c^2*d^4*e-31*c^2*d^3*e^2-507*c^2*d^2*e^3+78*c^2*d*e^4+237*c^2*e^5-10*c*d^5*e+347*c*d^4*e^2-190*c*d^3*e^3-203*c*d^2*e^4+23*c*d*e^5+241*c*e^6+15*d^5*e^2+172*d^4*e^3-91*d^3*e^4-81*d^2*e^5-21*d*e^6+110*e^7\n",
       "[2]:\n",
       "   1,1"
      ]
     },
     "execution_count": 15,
     "metadata": {},
     "output_type": "execute_result"
    }
   ],
   "source": [
    "singular.factorize(GI0[8])"
   ]
  },
  {
   "cell_type": "code",
   "execution_count": 16,
   "metadata": {},
   "outputs": [
    {
     "data": {
      "text/plain": [
       "[1]:\n",
       "   _[1]=-1\n",
       "   _[2]=-22*b*c+22*b*d^3*e^3+66*b*d^2*e^4-88*b*d*e^5+22*b*e^6+9*c^5*d^2-9*c^5*e^2-c^4*d^3-5*c^4*d^2*e-20*c^4*d*e^2-10*c^4*e^3+3*c^3*d^3*e+31*c^3*d^2*e^2-124*c^3*d*e^3+18*c^3*e^4-2*c^2*d^4*e+49*c^2*d^3*e^2+46*c^2*d^2*e^3-84*c^2*d*e^4+41*c^2*e^5+3*c*d^4*e^2+32*c*d^3*e^3+42*c*d^2*e^4-129*c*d*e^5+44*c*e^6+22*d^4*e^3+88*d^3*e^4+22*d^2*e^5-88*d*e^6+22*e^7\n",
       "[2]:\n",
       "   1,1"
      ]
     },
     "execution_count": 16,
     "metadata": {},
     "output_type": "execute_result"
    }
   ],
   "source": [
    "singular.factorize(GI0[9])"
   ]
  },
  {
   "cell_type": "code",
   "execution_count": 17,
   "metadata": {},
   "outputs": [
    {
     "data": {
      "text/plain": [
       "[1]:\n",
       "   _[1]=-1\n",
       "   _[2]=-b^2-b*d-2*b*e+c*d-c*e-e^2\n",
       "[2]:\n",
       "   1,1"
      ]
     },
     "execution_count": 17,
     "metadata": {},
     "output_type": "execute_result"
    }
   ],
   "source": [
    "singular.factorize(GI0[10])"
   ]
  },
  {
   "cell_type": "code",
   "execution_count": 18,
   "metadata": {},
   "outputs": [
    {
     "data": {
      "text/plain": [
       "[1]:\n",
       "   _[1]=1\n",
       "   _[2]=a+b+c+d+e\n",
       "[2]:\n",
       "   1,1"
      ]
     },
     "execution_count": 18,
     "metadata": {},
     "output_type": "execute_result"
    }
   ],
   "source": [
    "singular.factorize(GI0[11])"
   ]
  },
  {
   "cell_type": "code",
   "execution_count": 19,
   "metadata": {},
   "outputs": [
    {
     "data": {
      "text/plain": [
       "1"
      ]
     },
     "execution_count": 19,
     "metadata": {},
     "output_type": "execute_result"
    }
   ],
   "source": [
    "gcd(GI0[4],GI0[5])"
   ]
  },
  {
   "cell_type": "code",
   "execution_count": null,
   "metadata": {},
   "outputs": [],
   "source": []
  }
 ],
 "metadata": {
  "kernelspec": {
   "display_name": "SageMath 8.3",
   "language": "",
   "name": "sagemath"
  },
  "language_info": {
   "codemirror_mode": {
    "name": "ipython",
    "version": 2
   },
   "file_extension": ".py",
   "mimetype": "text/x-python",
   "name": "python",
   "nbconvert_exporter": "python",
   "pygments_lexer": "ipython2",
   "version": "2.7.15"
  }
 },
 "nbformat": 4,
 "nbformat_minor": 2
}
