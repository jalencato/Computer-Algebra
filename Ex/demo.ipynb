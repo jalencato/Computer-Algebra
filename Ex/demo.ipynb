{
 "cells": [
  {
   "cell_type": "code",
   "execution_count": 4,
   "metadata": {},
   "outputs": [],
   "source": [
    "R0 = singular.ring(0, '(a,b,c,d,e)', 'lp')"
   ]
  },
  {
   "cell_type": "code",
   "execution_count": 5,
   "metadata": {},
   "outputs": [],
   "source": [
    "I0=singular.ideal(singular.cyclic(5))"
   ]
  },
  {
   "cell_type": "code",
   "execution_count": 6,
   "metadata": {},
   "outputs": [
    {
     "data": {
      "text/plain": [
       "a+b+c+d+e,\n",
       "a*b+a*e+b*c+c*d+d*e,\n",
       "a*b*c+a*b*e+a*d*e+b*c*d+c*d*e,\n",
       "a*b*c*d+a*b*c*e+a*b*d*e+a*c*d*e+b*c*d*e,\n",
       "a*b*c*d*e-1"
      ]
     },
     "execution_count": 6,
     "metadata": {},
     "output_type": "execute_result"
    }
   ],
   "source": [
    "I0"
   ]
  },
  {
   "cell_type": "code",
   "execution_count": 7,
   "metadata": {},
   "outputs": [
    {
     "data": {
      "text/plain": [
       "Singular"
      ]
     },
     "execution_count": 7,
     "metadata": {},
     "output_type": "execute_result"
    }
   ],
   "source": [
    "I0.parent()"
   ]
  },
  {
   "cell_type": "code",
   "execution_count": 8,
   "metadata": {},
   "outputs": [
    {
     "data": {
      "text/plain": [
       "e^15,\n",
       "55*d^2*e^5,\n",
       "6*d^7,\n",
       "360150*c*e^5,\n",
       "360150*c*d,\n",
       "3*c^3,\n",
       "22*b*e^5,\n",
       "110*b*d,\n",
       "22*b*c,\n",
       "b^2,\n",
       "a"
      ]
     },
     "execution_count": 8,
     "metadata": {},
     "output_type": "execute_result"
    }
   ],
   "source": [
    "GI0=I0.groebner();singular.lead(GI0)\n"
   ]
  },
  {
   "cell_type": "code",
   "execution_count": 34,
   "metadata": {},
   "outputs": [],
   "source": [
    "R5 = singular.ring(5, '(a,b,c,d,e)', 'dp')"
   ]
  },
  {
   "cell_type": "code",
   "execution_count": 35,
   "metadata": {},
   "outputs": [],
   "source": [
    "I5=singular.ideal(singular.cyclic(5))"
   ]
  },
  {
   "cell_type": "code",
   "execution_count": 36,
   "metadata": {},
   "outputs": [
    {
     "data": {
      "text/plain": [
       "a,\n",
       "b^2,\n",
       "c^3,\n",
       "b*c^2,\n",
       "d^4,\n",
       "c*d^3,\n",
       "b*d^3,\n",
       "c^2*d^2,\n",
       "b*c*d^2,\n",
       "b*c*d*e^2,\n",
       "c*e^5,\n",
       "b*e^5,\n",
       "b*d^2*e^3,\n",
       "d^2*e^5,\n",
       "e^8,\n",
       "d*e^7"
      ]
     },
     "execution_count": 36,
     "metadata": {},
     "output_type": "execute_result"
    }
   ],
   "source": [
    "GI5=I5.groebner();singular.lead(GI5)"
   ]
  },
  {
   "cell_type": "code",
   "execution_count": 37,
   "metadata": {},
   "outputs": [
    {
     "data": {
      "text/plain": [
       "16"
      ]
     },
     "execution_count": 37,
     "metadata": {},
     "output_type": "execute_result"
    }
   ],
   "source": [
    "singular.size(singular.lead(GI5))"
   ]
  },
  {
   "cell_type": "code",
   "execution_count": 38,
   "metadata": {},
   "outputs": [
    {
     "data": {
      "text/plain": [
       "70"
      ]
     },
     "execution_count": 38,
     "metadata": {},
     "output_type": "execute_result"
    }
   ],
   "source": [
    "singular.size(singular.kbase(GI5))"
   ]
  },
  {
   "cell_type": "code",
   "execution_count": 10,
   "metadata": {},
   "outputs": [
    {
     "data": {
      "text/plain": [
       "20"
      ]
     },
     "execution_count": 10,
     "metadata": {},
     "output_type": "execute_result"
    }
   ],
   "source": [
    "singular.size(singular.lead(GI0))"
   ]
  },
  {
   "cell_type": "code",
   "execution_count": 11,
   "metadata": {},
   "outputs": [
    {
     "data": {
      "text/plain": [
       "a,\n",
       "b^2,\n",
       "c^3,\n",
       "b*c^2,\n",
       "d^4,\n",
       "19*c*d^3,\n",
       "b*d^3,\n",
       "c^2*d^2,\n",
       "b*c*d^2,\n",
       "2*b*c*d*e^2,\n",
       "b*e^5,\n",
       "15*c*d^2*e^3,\n",
       "11*b*d^2*e^3,\n",
       "2*c*d*e^5,\n",
       "3*c^2*e^5,\n",
       "5*d^3*e^4,\n",
       "e^8,\n",
       "d*e^7,\n",
       "8*c*e^7,\n",
       "d^2*e^6"
      ]
     },
     "execution_count": 11,
     "metadata": {},
     "output_type": "execute_result"
    }
   ],
   "source": [
    "singular.lead(GI0)"
   ]
  },
  {
   "cell_type": "code",
   "execution_count": null,
   "metadata": {},
   "outputs": [],
   "source": []
  },
  {
   "cell_type": "code",
   "execution_count": 13,
   "metadata": {},
   "outputs": [
    {
     "data": {
      "text/plain": [
       "70"
      ]
     },
     "execution_count": 13,
     "metadata": {},
     "output_type": "execute_result"
    }
   ],
   "source": [
    "singular.size(singular.kbase(GI0))"
   ]
  },
  {
   "cell_type": "code",
   "execution_count": 15,
   "metadata": {},
   "outputs": [],
   "source": [
    "R1 = singular.ring(0, '(a,b,c)', 'dp')"
   ]
  },
  {
   "cell_type": "code",
   "execution_count": 22,
   "metadata": {},
   "outputs": [],
   "source": [
    "I1 = singular.ideal(singular.cyclic(3))"
   ]
  },
  {
   "cell_type": "code",
   "execution_count": 23,
   "metadata": {},
   "outputs": [
    {
     "data": {
      "text/plain": [
       "a+b+c,\n",
       "a*b+a*c+b*c,\n",
       "a*b*c-1"
      ]
     },
     "execution_count": 23,
     "metadata": {},
     "output_type": "execute_result"
    }
   ],
   "source": [
    "I1"
   ]
  },
  {
   "cell_type": "code",
   "execution_count": 24,
   "metadata": {},
   "outputs": [
    {
     "data": {
      "text/plain": [
       "a,\n",
       "b^2,\n",
       "c^3"
      ]
     },
     "execution_count": 24,
     "metadata": {},
     "output_type": "execute_result"
    }
   ],
   "source": [
    "GI1=I1.groebner();singular.lead(GI1)"
   ]
  },
  {
   "cell_type": "code",
   "execution_count": 25,
   "metadata": {},
   "outputs": [
    {
     "data": {
      "text/plain": [
       "0"
      ]
     },
     "execution_count": 25,
     "metadata": {},
     "output_type": "execute_result"
    }
   ],
   "source": [
    "singular.size(singular.kbase(GI1))"
   ]
  },
  {
   "cell_type": "code",
   "execution_count": 26,
   "metadata": {},
   "outputs": [
    {
     "data": {
      "text/plain": [
       "a+b+c,\n",
       "b^2+b*c+c^2,\n",
       "c^3-1"
      ]
     },
     "execution_count": 26,
     "metadata": {},
     "output_type": "execute_result"
    }
   ],
   "source": [
    "GI1"
   ]
  },
  {
   "cell_type": "code",
   "execution_count": 33,
   "metadata": {},
   "outputs": [
    {
     "data": {
      "text/plain": [
       "e^2,\n",
       "d*e,\n",
       "c*e,\n",
       "b*e,\n",
       "d^2,\n",
       "c*d,\n",
       "b*d,\n",
       "c^2,\n",
       "b*c"
      ]
     },
     "execution_count": 33,
     "metadata": {},
     "output_type": "execute_result"
    }
   ],
   "source": [
    "singular.kbase(GI1,2)"
   ]
  },
  {
   "cell_type": "code",
   "execution_count": 28,
   "metadata": {},
   "outputs": [
    {
     "data": {
      "text/plain": [
       "e^7,\n",
       "d*e^6,\n",
       "c*e^6,\n",
       "e^6,\n",
       "d^2*e^5,\n",
       "d*e^5,\n",
       "c*e^5,\n",
       "e^5,\n",
       "d^2*e^4,\n",
       "c^2*d*e^4,\n",
       "c*d*e^4,\n",
       "b*d*e^4,\n",
       "d*e^4,\n",
       "c^2*e^4,\n",
       "b*c*e^4,\n",
       "c*e^4,\n",
       "b*e^4,\n",
       "e^4,\n",
       "d^3*e^3,\n",
       "d^2*e^3,\n",
       "c^2*d*e^3,\n",
       "c*d*e^3,\n",
       "b*d*e^3,\n",
       "d*e^3,\n",
       "c^2*e^3,\n",
       "b*c*e^3,\n",
       "c*e^3,\n",
       "b*e^3,\n",
       "e^3,\n",
       "d^3*e^2,\n",
       "c*d^2*e^2,\n",
       "b*d^2*e^2,\n",
       "d^2*e^2,\n",
       "c^2*d*e^2,\n",
       "c*d*e^2,\n",
       "b*d*e^2,\n",
       "d*e^2,\n",
       "c^2*e^2,\n",
       "b*c*e^2,\n",
       "c*e^2,\n",
       "b*e^2,\n",
       "e^2,\n",
       "d^3*e,\n",
       "c*d^2*e,\n",
       "b*d^2*e,\n",
       "d^2*e,\n",
       "c^2*d*e,\n",
       "b*c*d*e,\n",
       "c*d*e,\n",
       "b*d*e,\n",
       "d*e,\n",
       "c^2*e,\n",
       "b*c*e,\n",
       "c*e,\n",
       "b*e,\n",
       "e,\n",
       "d^3,\n",
       "c*d^2,\n",
       "b*d^2,\n",
       "d^2,\n",
       "c^2*d,\n",
       "b*c*d,\n",
       "c*d,\n",
       "b*d,\n",
       "d,\n",
       "c^2,\n",
       "b*c,\n",
       "c,\n",
       "b,\n",
       "1"
      ]
     },
     "execution_count": 28,
     "metadata": {},
     "output_type": "execute_result"
    }
   ],
   "source": [
    "singular.kbase(GI0)"
   ]
  },
  {
   "cell_type": "code",
   "execution_count": 29,
   "metadata": {},
   "outputs": [
    {
     "data": {
      "text/plain": [
       "Singular"
      ]
     },
     "execution_count": 29,
     "metadata": {},
     "output_type": "execute_result"
    }
   ],
   "source": [
    "GI0.parent()"
   ]
  },
  {
   "cell_type": "code",
   "execution_count": 30,
   "metadata": {},
   "outputs": [
    {
     "data": {
      "text/plain": [
       "Singular"
      ]
     },
     "execution_count": 30,
     "metadata": {},
     "output_type": "execute_result"
    }
   ],
   "source": [
    "GI1.parent()"
   ]
  },
  {
   "cell_type": "code",
   "execution_count": null,
   "metadata": {},
   "outputs": [],
   "source": []
  }
 ],
 "metadata": {
  "kernelspec": {
   "display_name": "SageMath 8.3",
   "language": "",
   "name": "sagemath"
  },
  "language_info": {
   "codemirror_mode": {
    "name": "ipython",
    "version": 2
   },
   "file_extension": ".py",
   "mimetype": "text/x-python",
   "name": "python",
   "nbconvert_exporter": "python",
   "pygments_lexer": "ipython2",
   "version": "2.7.15"
  }
 },
 "nbformat": 4,
 "nbformat_minor": 2
}
